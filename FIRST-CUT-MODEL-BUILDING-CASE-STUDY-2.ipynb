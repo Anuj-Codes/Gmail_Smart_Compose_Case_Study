{
 "cells": [
  {
   "cell_type": "code",
   "execution_count": 2,
   "metadata": {
    "execution": {
     "iopub.execute_input": "2022-06-26T13:47:05.113702Z",
     "iopub.status.busy": "2022-06-26T13:47:05.112676Z",
     "iopub.status.idle": "2022-06-26T13:47:11.267526Z",
     "shell.execute_reply": "2022-06-26T13:47:11.266603Z",
     "shell.execute_reply.started": "2022-06-26T13:47:05.113656Z"
    }
   },
   "outputs": [],
   "source": [
    "import numpy as np\n",
    "from tqdm import tqdm\n",
    "import email\n",
    "import seaborn as sns\n",
    "import pandas as pd\n",
    "import matplotlib.pyplot as plt\n",
    "from collections import Counter\n",
    "import warnings\n",
    "warnings.filterwarnings(\"ignore\")\n",
    "import re\n",
    "import nltk\n",
    "import pickle\n",
    "import tensorflow as tf\n",
    "from tensorflow import keras\n",
    "from tensorflow.keras.utils import plot_model\n",
    "from tensorflow.keras.models import Model\n",
    "from tensorflow.keras.layers import Input\n",
    "from tensorflow.keras.layers import MaxPooling1D\n",
    "from tensorflow.keras.layers import concatenate\n",
    "from tensorflow.keras.layers import Dropout\n",
    "from tensorflow.keras.layers import Dense\n",
    "from tensorflow.keras.layers import Flatten\n",
    "from tensorflow.keras.layers import Embedding\n",
    "from tensorflow.keras.preprocessing.text import Tokenizer\n",
    "from tensorflow.keras.preprocessing.sequence import pad_sequences\n",
    "import pickle"
   ]
  },
  {
   "cell_type": "markdown",
   "metadata": {},
   "source": [
    "# Data preparation:-"
   ]
  },
  {
   "cell_type": "code",
   "execution_count": 3,
   "metadata": {
    "execution": {
     "iopub.execute_input": "2022-06-26T13:47:11.271016Z",
     "iopub.status.busy": "2022-06-26T13:47:11.270062Z",
     "iopub.status.idle": "2022-06-26T13:47:17.869856Z",
     "shell.execute_reply": "2022-06-26T13:47:17.868978Z",
     "shell.execute_reply.started": "2022-06-26T13:47:11.270978Z"
    }
   },
   "outputs": [],
   "source": [
    "# loading the final email dataset after all the cleaning is done\n",
    "Final_Data=pickle.load(open(\"../input/final-preprocessed-data-case-study2/emails_df_final_2606.pkl\",\"rb\"))"
   ]
  },
  {
   "cell_type": "code",
   "execution_count": 4,
   "metadata": {
    "execution": {
     "iopub.execute_input": "2022-06-26T13:47:17.871977Z",
     "iopub.status.busy": "2022-06-26T13:47:17.871601Z",
     "iopub.status.idle": "2022-06-26T13:47:17.880583Z",
     "shell.execute_reply": "2022-06-26T13:47:17.879722Z",
     "shell.execute_reply.started": "2022-06-26T13:47:17.871940Z"
    }
   },
   "outputs": [
    {
     "data": {
      "text/plain": [
       "(210450, 3)"
      ]
     },
     "execution_count": 4,
     "metadata": {},
     "output_type": "execute_result"
    }
   ],
   "source": [
    "Final_Data.shape"
   ]
  },
  {
   "cell_type": "code",
   "execution_count": 5,
   "metadata": {
    "execution": {
     "iopub.execute_input": "2022-06-26T13:47:29.177311Z",
     "iopub.status.busy": "2022-06-26T13:47:29.176958Z",
     "iopub.status.idle": "2022-06-26T13:47:29.193982Z",
     "shell.execute_reply": "2022-06-26T13:47:29.193140Z",
     "shell.execute_reply.started": "2022-06-26T13:47:29.177274Z"
    }
   },
   "outputs": [
    {
     "data": {
      "text/html": [
       "<div>\n",
       "<style scoped>\n",
       "    .dataframe tbody tr th:only-of-type {\n",
       "        vertical-align: middle;\n",
       "    }\n",
       "\n",
       "    .dataframe tbody tr th {\n",
       "        vertical-align: top;\n",
       "    }\n",
       "\n",
       "    .dataframe thead th {\n",
       "        text-align: right;\n",
       "    }\n",
       "</style>\n",
       "<table border=\"1\" class=\"dataframe\">\n",
       "  <thead>\n",
       "    <tr style=\"text-align: right;\">\n",
       "      <th></th>\n",
       "      <th>mail_content</th>\n",
       "      <th>mail_content_len</th>\n",
       "      <th>clean_mail_content</th>\n",
       "    </tr>\n",
       "  </thead>\n",
       "  <tbody>\n",
       "    <tr>\n",
       "      <th>1</th>\n",
       "      <td>Traveling to have a business meeting takes the...</td>\n",
       "      <td>786</td>\n",
       "      <td>traveling to have a business meeting takes the...</td>\n",
       "    </tr>\n",
       "    <tr>\n",
       "      <th>3</th>\n",
       "      <td>Randy,\\n\\n Can you send me a schedule of the s...</td>\n",
       "      <td>187</td>\n",
       "      <td>randy, can you send me a schedule of the salar...</td>\n",
       "    </tr>\n",
       "    <tr>\n",
       "      <th>5</th>\n",
       "      <td>Greg,\\n\\n How about either next Tuesday or Thu...</td>\n",
       "      <td>59</td>\n",
       "      <td>greg, how about either next tuesday or thursda...</td>\n",
       "    </tr>\n",
       "    <tr>\n",
       "      <th>6</th>\n",
       "      <td>Please cc the following distribution list with...</td>\n",
       "      <td>242</td>\n",
       "      <td>please cc the following distribution list with...</td>\n",
       "    </tr>\n",
       "    <tr>\n",
       "      <th>8</th>\n",
       "      <td>1. login:  pallen pw: ke9davis\\n\\n I don't thi...</td>\n",
       "      <td>224</td>\n",
       "      <td>. login pallen pw ke davis i don't think these...</td>\n",
       "    </tr>\n",
       "  </tbody>\n",
       "</table>\n",
       "</div>"
      ],
      "text/plain": [
       "                                        mail_content  mail_content_len  \\\n",
       "1  Traveling to have a business meeting takes the...               786   \n",
       "3  Randy,\\n\\n Can you send me a schedule of the s...               187   \n",
       "5  Greg,\\n\\n How about either next Tuesday or Thu...                59   \n",
       "6  Please cc the following distribution list with...               242   \n",
       "8  1. login:  pallen pw: ke9davis\\n\\n I don't thi...               224   \n",
       "\n",
       "                                  clean_mail_content  \n",
       "1  traveling to have a business meeting takes the...  \n",
       "3  randy, can you send me a schedule of the salar...  \n",
       "5  greg, how about either next tuesday or thursda...  \n",
       "6  please cc the following distribution list with...  \n",
       "8  . login pallen pw ke davis i don't think these...  "
      ]
     },
     "execution_count": 5,
     "metadata": {},
     "output_type": "execute_result"
    }
   ],
   "source": [
    "Final_Data.head()"
   ]
  },
  {
   "cell_type": "code",
   "execution_count": 6,
   "metadata": {
    "execution": {
     "iopub.execute_input": "2022-06-26T13:47:48.195723Z",
     "iopub.status.busy": "2022-06-26T13:47:48.195339Z",
     "iopub.status.idle": "2022-06-26T13:47:48.210449Z",
     "shell.execute_reply": "2022-06-26T13:47:48.209627Z",
     "shell.execute_reply.started": "2022-06-26T13:47:48.195692Z"
    }
   },
   "outputs": [],
   "source": [
    "Final_Data.drop([\"mail_content\",\"mail_content_len\"],axis=1,inplace=True)"
   ]
  },
  {
   "cell_type": "code",
   "execution_count": 7,
   "metadata": {
    "execution": {
     "iopub.execute_input": "2022-06-26T13:47:50.584718Z",
     "iopub.status.busy": "2022-06-26T13:47:50.584334Z",
     "iopub.status.idle": "2022-06-26T13:47:50.593927Z",
     "shell.execute_reply": "2022-06-26T13:47:50.593211Z",
     "shell.execute_reply.started": "2022-06-26T13:47:50.584688Z"
    }
   },
   "outputs": [
    {
     "data": {
      "text/html": [
       "<div>\n",
       "<style scoped>\n",
       "    .dataframe tbody tr th:only-of-type {\n",
       "        vertical-align: middle;\n",
       "    }\n",
       "\n",
       "    .dataframe tbody tr th {\n",
       "        vertical-align: top;\n",
       "    }\n",
       "\n",
       "    .dataframe thead th {\n",
       "        text-align: right;\n",
       "    }\n",
       "</style>\n",
       "<table border=\"1\" class=\"dataframe\">\n",
       "  <thead>\n",
       "    <tr style=\"text-align: right;\">\n",
       "      <th></th>\n",
       "      <th>clean_mail_content</th>\n",
       "    </tr>\n",
       "  </thead>\n",
       "  <tbody>\n",
       "    <tr>\n",
       "      <th>1</th>\n",
       "      <td>traveling to have a business meeting takes the...</td>\n",
       "    </tr>\n",
       "    <tr>\n",
       "      <th>3</th>\n",
       "      <td>randy, can you send me a schedule of the salar...</td>\n",
       "    </tr>\n",
       "    <tr>\n",
       "      <th>5</th>\n",
       "      <td>greg, how about either next tuesday or thursda...</td>\n",
       "    </tr>\n",
       "    <tr>\n",
       "      <th>6</th>\n",
       "      <td>please cc the following distribution list with...</td>\n",
       "    </tr>\n",
       "    <tr>\n",
       "      <th>8</th>\n",
       "      <td>. login pallen pw ke davis i don't think these...</td>\n",
       "    </tr>\n",
       "  </tbody>\n",
       "</table>\n",
       "</div>"
      ],
      "text/plain": [
       "                                  clean_mail_content\n",
       "1  traveling to have a business meeting takes the...\n",
       "3  randy, can you send me a schedule of the salar...\n",
       "5  greg, how about either next tuesday or thursda...\n",
       "6  please cc the following distribution list with...\n",
       "8  . login pallen pw ke davis i don't think these..."
      ]
     },
     "execution_count": 7,
     "metadata": {},
     "output_type": "execute_result"
    }
   ],
   "source": [
    "Final_Data.head()"
   ]
  },
  {
   "cell_type": "code",
   "execution_count": 13,
   "metadata": {
    "execution": {
     "iopub.execute_input": "2022-06-26T13:49:02.899285Z",
     "iopub.status.busy": "2022-06-26T13:49:02.898870Z",
     "iopub.status.idle": "2022-06-26T13:49:02.906858Z",
     "shell.execute_reply": "2022-06-26T13:49:02.906074Z",
     "shell.execute_reply.started": "2022-06-26T13:49:02.899253Z"
    }
   },
   "outputs": [
    {
     "data": {
      "text/plain": [
       "(210450, 1)"
      ]
     },
     "execution_count": 13,
     "metadata": {},
     "output_type": "execute_result"
    }
   ],
   "source": [
    "Final_Data.shape"
   ]
  },
  {
   "cell_type": "code",
   "execution_count": 14,
   "metadata": {
    "execution": {
     "iopub.execute_input": "2022-06-26T13:49:11.379220Z",
     "iopub.status.busy": "2022-06-26T13:49:11.378586Z",
     "iopub.status.idle": "2022-06-26T13:49:11.382979Z",
     "shell.execute_reply": "2022-06-26T13:49:11.381926Z",
     "shell.execute_reply.started": "2022-06-26T13:49:11.379181Z"
    }
   },
   "outputs": [],
   "source": [
    "Final_Data['clean_mail_content_len'] = Final_Data['clean_mail_content'].apply(lambda x:len(nltk.word_tokenize(x)))"
   ]
  },
  {
   "cell_type": "code",
   "execution_count": 15,
   "metadata": {
    "execution": {
     "iopub.execute_input": "2022-06-26T13:49:21.721220Z",
     "iopub.status.busy": "2022-06-26T13:49:21.720509Z",
     "iopub.status.idle": "2022-06-26T13:49:21.729725Z",
     "shell.execute_reply": "2022-06-26T13:49:21.727876Z",
     "shell.execute_reply.started": "2022-06-26T13:49:21.721174Z"
    }
   },
   "outputs": [],
   "source": [
    "Final_Data=Final_Data[Final_Data[\"clean_mail_content_len\"]<=20]"
   ]
  },
  {
   "cell_type": "code",
   "execution_count": 16,
   "metadata": {
    "execution": {
     "iopub.execute_input": "2022-06-26T13:49:37.641798Z",
     "iopub.status.busy": "2022-06-26T13:49:37.640982Z",
     "iopub.status.idle": "2022-06-26T13:49:37.678110Z",
     "shell.execute_reply": "2022-06-26T13:49:37.677187Z",
     "shell.execute_reply.started": "2022-06-26T13:49:37.641757Z"
    }
   },
   "outputs": [],
   "source": [
    "Final_Data=pickle.load(open(\"../input/final-preprocessed-data-case-study2/Final_Data.pkl\",\"rb\"))"
   ]
  },
  {
   "cell_type": "code",
   "execution_count": 17,
   "metadata": {
    "execution": {
     "iopub.execute_input": "2022-06-26T13:49:45.348212Z",
     "iopub.status.busy": "2022-06-26T13:49:45.347514Z",
     "iopub.status.idle": "2022-06-26T13:49:45.358159Z",
     "shell.execute_reply": "2022-06-26T13:49:45.357332Z",
     "shell.execute_reply.started": "2022-06-26T13:49:45.348174Z"
    }
   },
   "outputs": [
    {
     "data": {
      "text/html": [
       "<div>\n",
       "<style scoped>\n",
       "    .dataframe tbody tr th:only-of-type {\n",
       "        vertical-align: middle;\n",
       "    }\n",
       "\n",
       "    .dataframe tbody tr th {\n",
       "        vertical-align: top;\n",
       "    }\n",
       "\n",
       "    .dataframe thead th {\n",
       "        text-align: right;\n",
       "    }\n",
       "</style>\n",
       "<table border=\"1\" class=\"dataframe\">\n",
       "  <thead>\n",
       "    <tr style=\"text-align: right;\">\n",
       "      <th></th>\n",
       "      <th>clean_mail_content</th>\n",
       "      <th>clean_mail_content_len</th>\n",
       "    </tr>\n",
       "  </thead>\n",
       "  <tbody>\n",
       "    <tr>\n",
       "      <th>5</th>\n",
       "      <td>greg, how about either next tuesday or thursda...</td>\n",
       "      <td>11</td>\n",
       "    </tr>\n",
       "    <tr>\n",
       "      <th>9</th>\n",
       "      <td></td>\n",
       "      <td>0</td>\n",
       "    </tr>\n",
       "    <tr>\n",
       "      <th>29</th>\n",
       "      <td>nymex expiration is during this time frame. pl...</td>\n",
       "      <td>11</td>\n",
       "    </tr>\n",
       "    <tr>\n",
       "      <th>36</th>\n",
       "      <td>greg, happy b day. email me your phone and i w...</td>\n",
       "      <td>17</td>\n",
       "    </tr>\n",
       "    <tr>\n",
       "      <th>62</th>\n",
       "      <td>ina, i scheduled a meeting with jean mrha tomo...</td>\n",
       "      <td>11</td>\n",
       "    </tr>\n",
       "  </tbody>\n",
       "</table>\n",
       "</div>"
      ],
      "text/plain": [
       "                                   clean_mail_content  clean_mail_content_len\n",
       "5   greg, how about either next tuesday or thursda...                      11\n",
       "9                                                                           0\n",
       "29  nymex expiration is during this time frame. pl...                      11\n",
       "36  greg, happy b day. email me your phone and i w...                      17\n",
       "62  ina, i scheduled a meeting with jean mrha tomo...                      11"
      ]
     },
     "execution_count": 17,
     "metadata": {},
     "output_type": "execute_result"
    }
   ],
   "source": [
    "Final_Data.head()"
   ]
  },
  {
   "cell_type": "code",
   "execution_count": 21,
   "metadata": {
    "execution": {
     "iopub.execute_input": "2022-06-26T13:50:15.015084Z",
     "iopub.status.busy": "2022-06-26T13:50:15.014660Z",
     "iopub.status.idle": "2022-06-26T13:50:15.025937Z",
     "shell.execute_reply": "2022-06-26T13:50:15.025199Z",
     "shell.execute_reply.started": "2022-06-26T13:50:15.015049Z"
    }
   },
   "outputs": [
    {
     "data": {
      "text/plain": [
       "(19069, 2)"
      ]
     },
     "execution_count": 21,
     "metadata": {},
     "output_type": "execute_result"
    }
   ],
   "source": [
    "Final_Data.shape"
   ]
  },
  {
   "cell_type": "markdown",
   "metadata": {},
   "source": [
    "# performing the train test split"
   ]
  },
  {
   "cell_type": "code",
   "execution_count": 22,
   "metadata": {
    "execution": {
     "iopub.execute_input": "2022-06-26T13:50:16.727434Z",
     "iopub.status.busy": "2022-06-26T13:50:16.726494Z",
     "iopub.status.idle": "2022-06-26T13:50:16.736181Z",
     "shell.execute_reply": "2022-06-26T13:50:16.735361Z",
     "shell.execute_reply.started": "2022-06-26T13:50:16.727389Z"
    }
   },
   "outputs": [],
   "source": [
    "from sklearn.model_selection import train_test_split\n",
    "train,test=train_test_split(Final_Data,test_size=0.15,random_state=12)"
   ]
  },
  {
   "cell_type": "code",
   "execution_count": 24,
   "metadata": {
    "execution": {
     "iopub.execute_input": "2022-06-26T13:50:59.591145Z",
     "iopub.status.busy": "2022-06-26T13:50:59.590232Z",
     "iopub.status.idle": "2022-06-26T13:50:59.596110Z",
     "shell.execute_reply": "2022-06-26T13:50:59.595263Z",
     "shell.execute_reply.started": "2022-06-26T13:50:59.591099Z"
    }
   },
   "outputs": [
    {
     "name": "stdout",
     "output_type": "stream",
     "text": [
      "train dataset size (16208, 2)\n",
      "test dataset size (2861, 2)\n"
     ]
    }
   ],
   "source": [
    "print(\"train dataset size {}\".format(train.shape))\n",
    "print(\"test dataset size {}\".format(test.shape))"
   ]
  },
  {
   "cell_type": "code",
   "execution_count": 25,
   "metadata": {
    "execution": {
     "iopub.execute_input": "2022-06-26T13:51:03.396210Z",
     "iopub.status.busy": "2022-06-26T13:51:03.395448Z",
     "iopub.status.idle": "2022-06-26T13:51:03.405441Z",
     "shell.execute_reply": "2022-06-26T13:51:03.404568Z",
     "shell.execute_reply.started": "2022-06-26T13:51:03.396172Z"
    }
   },
   "outputs": [
    {
     "data": {
      "text/html": [
       "<div>\n",
       "<style scoped>\n",
       "    .dataframe tbody tr th:only-of-type {\n",
       "        vertical-align: middle;\n",
       "    }\n",
       "\n",
       "    .dataframe tbody tr th {\n",
       "        vertical-align: top;\n",
       "    }\n",
       "\n",
       "    .dataframe thead th {\n",
       "        text-align: right;\n",
       "    }\n",
       "</style>\n",
       "<table border=\"1\" class=\"dataframe\">\n",
       "  <thead>\n",
       "    <tr style=\"text-align: right;\">\n",
       "      <th></th>\n",
       "      <th>clean_mail_content</th>\n",
       "      <th>clean_mail_content_len</th>\n",
       "    </tr>\n",
       "  </thead>\n",
       "  <tbody>\n",
       "    <tr>\n",
       "      <th>450018</th>\n",
       "      <td>scott sitter bear paw energy crestone energy v...</td>\n",
       "      <td>15</td>\n",
       "    </tr>\n",
       "    <tr>\n",
       "      <th>59306</th>\n",
       "      <td>fyi. in case you're interested.</td>\n",
       "      <td>8</td>\n",
       "    </tr>\n",
       "    <tr>\n",
       "      <th>64206</th>\n",
       "      <td>please forward your schedules for this week to...</td>\n",
       "      <td>17</td>\n",
       "    </tr>\n",
       "    <tr>\n",
       "      <th>512416</th>\n",
       "      <td>http www.hoovers.com industry snapshot , , , ....</td>\n",
       "      <td>8</td>\n",
       "    </tr>\n",
       "    <tr>\n",
       "      <th>497171</th>\n",
       "      <td>fyi, this is for petro and misako.</td>\n",
       "      <td>9</td>\n",
       "    </tr>\n",
       "  </tbody>\n",
       "</table>\n",
       "</div>"
      ],
      "text/plain": [
       "                                       clean_mail_content  \\\n",
       "450018  scott sitter bear paw energy crestone energy v...   \n",
       "59306                     fyi. in case you're interested.   \n",
       "64206   please forward your schedules for this week to...   \n",
       "512416  http www.hoovers.com industry snapshot , , , ....   \n",
       "497171                 fyi, this is for petro and misako.   \n",
       "\n",
       "        clean_mail_content_len  \n",
       "450018                      15  \n",
       "59306                        8  \n",
       "64206                       17  \n",
       "512416                       8  \n",
       "497171                       9  "
      ]
     },
     "execution_count": 25,
     "metadata": {},
     "output_type": "execute_result"
    }
   ],
   "source": [
    "train.head()"
   ]
  },
  {
   "cell_type": "code",
   "execution_count": 26,
   "metadata": {
    "execution": {
     "iopub.execute_input": "2022-06-26T13:51:13.420296Z",
     "iopub.status.busy": "2022-06-26T13:51:13.419416Z",
     "iopub.status.idle": "2022-06-26T13:51:13.428746Z",
     "shell.execute_reply": "2022-06-26T13:51:13.427896Z",
     "shell.execute_reply.started": "2022-06-26T13:51:13.420257Z"
    }
   },
   "outputs": [
    {
     "data": {
      "text/html": [
       "<div>\n",
       "<style scoped>\n",
       "    .dataframe tbody tr th:only-of-type {\n",
       "        vertical-align: middle;\n",
       "    }\n",
       "\n",
       "    .dataframe tbody tr th {\n",
       "        vertical-align: top;\n",
       "    }\n",
       "\n",
       "    .dataframe thead th {\n",
       "        text-align: right;\n",
       "    }\n",
       "</style>\n",
       "<table border=\"1\" class=\"dataframe\">\n",
       "  <thead>\n",
       "    <tr style=\"text-align: right;\">\n",
       "      <th></th>\n",
       "      <th>clean_mail_content</th>\n",
       "      <th>clean_mail_content_len</th>\n",
       "    </tr>\n",
       "  </thead>\n",
       "  <tbody>\n",
       "    <tr>\n",
       "      <th>40597</th>\n",
       "      <td>image image image to unsubscribe from the emai...</td>\n",
       "      <td>14</td>\n",
       "    </tr>\n",
       "    <tr>\n",
       "      <th>252777</th>\n",
       "      <td>bob, please activate some new henry hub gas da...</td>\n",
       "      <td>18</td>\n",
       "    </tr>\n",
       "    <tr>\n",
       "      <th>275413</th>\n",
       "      <td>what was the name of that chop house restauran...</td>\n",
       "      <td>12</td>\n",
       "    </tr>\n",
       "    <tr>\n",
       "      <th>300624</th>\n",
       "      <td>i can never get both of your email addresses r...</td>\n",
       "      <td>15</td>\n",
       "    </tr>\n",
       "    <tr>\n",
       "      <th>494646</th>\n",
       "      <td>are you there yet? mark mcconnell transwestern...</td>\n",
       "      <td>15</td>\n",
       "    </tr>\n",
       "  </tbody>\n",
       "</table>\n",
       "</div>"
      ],
      "text/plain": [
       "                                       clean_mail_content  \\\n",
       "40597   image image image to unsubscribe from the emai...   \n",
       "252777  bob, please activate some new henry hub gas da...   \n",
       "275413  what was the name of that chop house restauran...   \n",
       "300624  i can never get both of your email addresses r...   \n",
       "494646  are you there yet? mark mcconnell transwestern...   \n",
       "\n",
       "        clean_mail_content_len  \n",
       "40597                       14  \n",
       "252777                      18  \n",
       "275413                      12  \n",
       "300624                      15  \n",
       "494646                      15  "
      ]
     },
     "execution_count": 26,
     "metadata": {},
     "output_type": "execute_result"
    }
   ],
   "source": [
    "test.head()"
   ]
  },
  {
   "cell_type": "markdown",
   "metadata": {},
   "source": [
    "# Preparing the data for train dataset"
   ]
  },
  {
   "cell_type": "code",
   "execution_count": 27,
   "metadata": {
    "execution": {
     "iopub.execute_input": "2022-06-26T13:51:15.931588Z",
     "iopub.status.busy": "2022-06-26T13:51:15.930814Z",
     "iopub.status.idle": "2022-06-26T13:51:17.149900Z",
     "shell.execute_reply": "2022-06-26T13:51:17.148891Z",
     "shell.execute_reply.started": "2022-06-26T13:51:15.931529Z"
    }
   },
   "outputs": [
    {
     "name": "stderr",
     "output_type": "stream",
     "text": [
      "100%|██████████| 16208/16208 [00:01<00:00, 13735.07it/s]\n"
     ]
    }
   ],
   "source": [
    "output=[]\n",
    "for i in tqdm(train[\"clean_mail_content\"].values):\n",
    "    token_list=i.split()\n",
    "    for j in range(len(token_list)-1):\n",
    "        data = []\n",
    "        x_ngram = '<start> ' + ' '.join(token_list[:j+1]) + ' <end>'\n",
    "        y_ngram = '<start> ' + ' '.join(token_list[j+1:]) + ' <end>'\n",
    "        data.append(x_ngram)\n",
    "        data.append(y_ngram)\n",
    "        output.append(data)\n",
    "Final_Train_df = pd.DataFrame(output, columns=['input','output'])"
   ]
  },
  {
   "cell_type": "code",
   "execution_count": 28,
   "metadata": {
    "execution": {
     "iopub.execute_input": "2022-06-26T13:51:22.575284Z",
     "iopub.status.busy": "2022-06-26T13:51:22.574621Z",
     "iopub.status.idle": "2022-06-26T13:51:22.583769Z",
     "shell.execute_reply": "2022-06-26T13:51:22.582911Z",
     "shell.execute_reply.started": "2022-06-26T13:51:22.575248Z"
    }
   },
   "outputs": [
    {
     "data": {
      "text/html": [
       "<div>\n",
       "<style scoped>\n",
       "    .dataframe tbody tr th:only-of-type {\n",
       "        vertical-align: middle;\n",
       "    }\n",
       "\n",
       "    .dataframe tbody tr th {\n",
       "        vertical-align: top;\n",
       "    }\n",
       "\n",
       "    .dataframe thead th {\n",
       "        text-align: right;\n",
       "    }\n",
       "</style>\n",
       "<table border=\"1\" class=\"dataframe\">\n",
       "  <thead>\n",
       "    <tr style=\"text-align: right;\">\n",
       "      <th></th>\n",
       "      <th>input</th>\n",
       "      <th>output</th>\n",
       "    </tr>\n",
       "  </thead>\n",
       "  <tbody>\n",
       "    <tr>\n",
       "      <th>0</th>\n",
       "      <td>&lt;start&gt; scott &lt;end&gt;</td>\n",
       "      <td>&lt;start&gt; sitter bear paw energy crestone energy...</td>\n",
       "    </tr>\n",
       "    <tr>\n",
       "      <th>1</th>\n",
       "      <td>&lt;start&gt; scott sitter &lt;end&gt;</td>\n",
       "      <td>&lt;start&gt; bear paw energy crestone energy ventur...</td>\n",
       "    </tr>\n",
       "    <tr>\n",
       "      <th>2</th>\n",
       "      <td>&lt;start&gt; scott sitter bear &lt;end&gt;</td>\n",
       "      <td>&lt;start&gt; paw energy crestone energy ventures, l...</td>\n",
       "    </tr>\n",
       "    <tr>\n",
       "      <th>3</th>\n",
       "      <td>&lt;start&gt; scott sitter bear paw &lt;end&gt;</td>\n",
       "      <td>&lt;start&gt; energy crestone energy ventures, l.l.c...</td>\n",
       "    </tr>\n",
       "    <tr>\n",
       "      <th>4</th>\n",
       "      <td>&lt;start&gt; scott sitter bear paw energy &lt;end&gt;</td>\n",
       "      <td>&lt;start&gt; crestone energy ventures, l.l.c. ph fa...</td>\n",
       "    </tr>\n",
       "  </tbody>\n",
       "</table>\n",
       "</div>"
      ],
      "text/plain": [
       "                                        input  \\\n",
       "0                         <start> scott <end>   \n",
       "1                  <start> scott sitter <end>   \n",
       "2             <start> scott sitter bear <end>   \n",
       "3         <start> scott sitter bear paw <end>   \n",
       "4  <start> scott sitter bear paw energy <end>   \n",
       "\n",
       "                                              output  \n",
       "0  <start> sitter bear paw energy crestone energy...  \n",
       "1  <start> bear paw energy crestone energy ventur...  \n",
       "2  <start> paw energy crestone energy ventures, l...  \n",
       "3  <start> energy crestone energy ventures, l.l.c...  \n",
       "4  <start> crestone energy ventures, l.l.c. ph fa...  "
      ]
     },
     "execution_count": 28,
     "metadata": {},
     "output_type": "execute_result"
    }
   ],
   "source": [
    "Final_Train_df.head()"
   ]
  },
  {
   "cell_type": "code",
   "execution_count": 31,
   "metadata": {
    "execution": {
     "iopub.execute_input": "2022-06-26T13:51:39.420114Z",
     "iopub.status.busy": "2022-06-26T13:51:39.419730Z",
     "iopub.status.idle": "2022-06-26T13:51:39.427220Z",
     "shell.execute_reply": "2022-06-26T13:51:39.426319Z",
     "shell.execute_reply.started": "2022-06-26T13:51:39.420077Z"
    }
   },
   "outputs": [
    {
     "data": {
      "text/plain": [
       "(179685, 2)"
      ]
     },
     "execution_count": 31,
     "metadata": {},
     "output_type": "execute_result"
    }
   ],
   "source": [
    "Final_Train_df.shape"
   ]
  },
  {
   "cell_type": "code",
   "execution_count": 29,
   "metadata": {
    "execution": {
     "iopub.execute_input": "2022-06-26T13:51:25.157454Z",
     "iopub.status.busy": "2022-06-26T13:51:25.157105Z",
     "iopub.status.idle": "2022-06-26T13:51:25.255796Z",
     "shell.execute_reply": "2022-06-26T13:51:25.254940Z",
     "shell.execute_reply.started": "2022-06-26T13:51:25.157425Z"
    }
   },
   "outputs": [
    {
     "name": "stderr",
     "output_type": "stream",
     "text": [
      "100%|██████████| 2861/2861 [00:00<00:00, 42658.89it/s]\n"
     ]
    }
   ],
   "source": [
    "output=[]\n",
    "for i in tqdm(test[\"clean_mail_content\"].values):\n",
    "    token_list=i.split()\n",
    "    for j in range(len(token_list)-1):\n",
    "        data = []\n",
    "        x_ngram = '<start> ' + ' '.join(token_list[:j+1]) + ' <end>'\n",
    "        y_ngram = '<start> ' + ' '.join(token_list[j+1:]) + ' <end>'\n",
    "        data.append(x_ngram)\n",
    "        data.append(y_ngram)\n",
    "        output.append(data)\n",
    "Final_Test_df = pd.DataFrame(output, columns=['input','output'])"
   ]
  },
  {
   "cell_type": "code",
   "execution_count": 32,
   "metadata": {
    "execution": {
     "iopub.execute_input": "2022-06-26T13:51:48.038081Z",
     "iopub.status.busy": "2022-06-26T13:51:48.037712Z",
     "iopub.status.idle": "2022-06-26T13:51:48.043901Z",
     "shell.execute_reply": "2022-06-26T13:51:48.042997Z",
     "shell.execute_reply.started": "2022-06-26T13:51:48.038053Z"
    }
   },
   "outputs": [
    {
     "data": {
      "text/plain": [
       "(31107, 2)"
      ]
     },
     "execution_count": 32,
     "metadata": {},
     "output_type": "execute_result"
    }
   ],
   "source": [
    "Final_Test_df.shape"
   ]
  },
  {
   "cell_type": "code",
   "execution_count": 30,
   "metadata": {
    "execution": {
     "iopub.execute_input": "2022-06-26T13:51:27.612861Z",
     "iopub.status.busy": "2022-06-26T13:51:27.612430Z",
     "iopub.status.idle": "2022-06-26T13:51:27.621998Z",
     "shell.execute_reply": "2022-06-26T13:51:27.621088Z",
     "shell.execute_reply.started": "2022-06-26T13:51:27.612826Z"
    }
   },
   "outputs": [
    {
     "data": {
      "text/html": [
       "<div>\n",
       "<style scoped>\n",
       "    .dataframe tbody tr th:only-of-type {\n",
       "        vertical-align: middle;\n",
       "    }\n",
       "\n",
       "    .dataframe tbody tr th {\n",
       "        vertical-align: top;\n",
       "    }\n",
       "\n",
       "    .dataframe thead th {\n",
       "        text-align: right;\n",
       "    }\n",
       "</style>\n",
       "<table border=\"1\" class=\"dataframe\">\n",
       "  <thead>\n",
       "    <tr style=\"text-align: right;\">\n",
       "      <th></th>\n",
       "      <th>input</th>\n",
       "      <th>output</th>\n",
       "    </tr>\n",
       "  </thead>\n",
       "  <tbody>\n",
       "    <tr>\n",
       "      <th>0</th>\n",
       "      <td>&lt;start&gt; image &lt;end&gt;</td>\n",
       "      <td>&lt;start&gt; image image to unsubscribe from the em...</td>\n",
       "    </tr>\n",
       "    <tr>\n",
       "      <th>1</th>\n",
       "      <td>&lt;start&gt; image image &lt;end&gt;</td>\n",
       "      <td>&lt;start&gt; image to unsubscribe from the email li...</td>\n",
       "    </tr>\n",
       "    <tr>\n",
       "      <th>2</th>\n",
       "      <td>&lt;start&gt; image image image &lt;end&gt;</td>\n",
       "      <td>&lt;start&gt; to unsubscribe from the email list, cl...</td>\n",
       "    </tr>\n",
       "    <tr>\n",
       "      <th>3</th>\n",
       "      <td>&lt;start&gt; image image image to &lt;end&gt;</td>\n",
       "      <td>&lt;start&gt; unsubscribe from the email list, click...</td>\n",
       "    </tr>\n",
       "    <tr>\n",
       "      <th>4</th>\n",
       "      <td>&lt;start&gt; image image image to unsubscribe &lt;end&gt;</td>\n",
       "      <td>&lt;start&gt; from the email list, click here image ...</td>\n",
       "    </tr>\n",
       "  </tbody>\n",
       "</table>\n",
       "</div>"
      ],
      "text/plain": [
       "                                            input  \\\n",
       "0                             <start> image <end>   \n",
       "1                       <start> image image <end>   \n",
       "2                 <start> image image image <end>   \n",
       "3              <start> image image image to <end>   \n",
       "4  <start> image image image to unsubscribe <end>   \n",
       "\n",
       "                                              output  \n",
       "0  <start> image image to unsubscribe from the em...  \n",
       "1  <start> image to unsubscribe from the email li...  \n",
       "2  <start> to unsubscribe from the email list, cl...  \n",
       "3  <start> unsubscribe from the email list, click...  \n",
       "4  <start> from the email list, click here image ...  "
      ]
     },
     "execution_count": 30,
     "metadata": {},
     "output_type": "execute_result"
    }
   ],
   "source": [
    "Final_Test_df.head()"
   ]
  },
  {
   "cell_type": "code",
   "execution_count": 33,
   "metadata": {
    "execution": {
     "iopub.execute_input": "2022-06-26T13:51:54.400456Z",
     "iopub.status.busy": "2022-06-26T13:51:54.400097Z",
     "iopub.status.idle": "2022-06-26T13:51:54.406232Z",
     "shell.execute_reply": "2022-06-26T13:51:54.405474Z",
     "shell.execute_reply.started": "2022-06-26T13:51:54.400423Z"
    }
   },
   "outputs": [
    {
     "name": "stdout",
     "output_type": "stream",
     "text": [
      "train dataset shape (179685, 2)\n",
      "test dataset shape (31107, 2)\n"
     ]
    }
   ],
   "source": [
    "print(\"train dataset shape\",Final_Train_df.shape)\n",
    "print(\"test dataset shape\",Final_Test_df.shape)"
   ]
  },
  {
   "cell_type": "code",
   "execution_count": 34,
   "metadata": {
    "execution": {
     "iopub.execute_input": "2022-06-26T13:52:00.964450Z",
     "iopub.status.busy": "2022-06-26T13:52:00.964084Z",
     "iopub.status.idle": "2022-06-26T13:52:39.115980Z",
     "shell.execute_reply": "2022-06-26T13:52:39.114993Z",
     "shell.execute_reply.started": "2022-06-26T13:52:00.964419Z"
    }
   },
   "outputs": [
    {
     "name": "stdout",
     "output_type": "stream",
     "text": [
      "CPU times: user 38 s, sys: 23 ms, total: 38 s\n",
      "Wall time: 38.1 s\n"
     ]
    }
   ],
   "source": [
    "%%time\n",
    "Final_Train_df['input_len'] = Final_Train_df['input'].apply(lambda x:len(nltk.word_tokenize(x)))\n",
    "Final_Test_df['input_len'] = Final_Test_df['input'].apply(lambda x:len(nltk.word_tokenize(x)))"
   ]
  },
  {
   "cell_type": "code",
   "execution_count": 35,
   "metadata": {
    "execution": {
     "iopub.execute_input": "2022-06-26T13:52:46.208124Z",
     "iopub.status.busy": "2022-06-26T13:52:46.207762Z",
     "iopub.status.idle": "2022-06-26T13:52:46.219830Z",
     "shell.execute_reply": "2022-06-26T13:52:46.219066Z",
     "shell.execute_reply.started": "2022-06-26T13:52:46.208094Z"
    }
   },
   "outputs": [
    {
     "data": {
      "text/html": [
       "<div>\n",
       "<style scoped>\n",
       "    .dataframe tbody tr th:only-of-type {\n",
       "        vertical-align: middle;\n",
       "    }\n",
       "\n",
       "    .dataframe tbody tr th {\n",
       "        vertical-align: top;\n",
       "    }\n",
       "\n",
       "    .dataframe thead th {\n",
       "        text-align: right;\n",
       "    }\n",
       "</style>\n",
       "<table border=\"1\" class=\"dataframe\">\n",
       "  <thead>\n",
       "    <tr style=\"text-align: right;\">\n",
       "      <th></th>\n",
       "      <th>input</th>\n",
       "      <th>output</th>\n",
       "      <th>input_len</th>\n",
       "    </tr>\n",
       "  </thead>\n",
       "  <tbody>\n",
       "    <tr>\n",
       "      <th>0</th>\n",
       "      <td>&lt;start&gt; scott &lt;end&gt;</td>\n",
       "      <td>&lt;start&gt; sitter bear paw energy crestone energy...</td>\n",
       "      <td>7</td>\n",
       "    </tr>\n",
       "    <tr>\n",
       "      <th>1</th>\n",
       "      <td>&lt;start&gt; scott sitter &lt;end&gt;</td>\n",
       "      <td>&lt;start&gt; bear paw energy crestone energy ventur...</td>\n",
       "      <td>8</td>\n",
       "    </tr>\n",
       "    <tr>\n",
       "      <th>2</th>\n",
       "      <td>&lt;start&gt; scott sitter bear &lt;end&gt;</td>\n",
       "      <td>&lt;start&gt; paw energy crestone energy ventures, l...</td>\n",
       "      <td>9</td>\n",
       "    </tr>\n",
       "    <tr>\n",
       "      <th>3</th>\n",
       "      <td>&lt;start&gt; scott sitter bear paw &lt;end&gt;</td>\n",
       "      <td>&lt;start&gt; energy crestone energy ventures, l.l.c...</td>\n",
       "      <td>10</td>\n",
       "    </tr>\n",
       "    <tr>\n",
       "      <th>4</th>\n",
       "      <td>&lt;start&gt; scott sitter bear paw energy &lt;end&gt;</td>\n",
       "      <td>&lt;start&gt; crestone energy ventures, l.l.c. ph fa...</td>\n",
       "      <td>11</td>\n",
       "    </tr>\n",
       "  </tbody>\n",
       "</table>\n",
       "</div>"
      ],
      "text/plain": [
       "                                        input  \\\n",
       "0                         <start> scott <end>   \n",
       "1                  <start> scott sitter <end>   \n",
       "2             <start> scott sitter bear <end>   \n",
       "3         <start> scott sitter bear paw <end>   \n",
       "4  <start> scott sitter bear paw energy <end>   \n",
       "\n",
       "                                              output  input_len  \n",
       "0  <start> sitter bear paw energy crestone energy...          7  \n",
       "1  <start> bear paw energy crestone energy ventur...          8  \n",
       "2  <start> paw energy crestone energy ventures, l...          9  \n",
       "3  <start> energy crestone energy ventures, l.l.c...         10  \n",
       "4  <start> crestone energy ventures, l.l.c. ph fa...         11  "
      ]
     },
     "execution_count": 35,
     "metadata": {},
     "output_type": "execute_result"
    }
   ],
   "source": [
    "Final_Train_df.head()"
   ]
  },
  {
   "cell_type": "code",
   "execution_count": 36,
   "metadata": {
    "execution": {
     "iopub.execute_input": "2022-06-26T13:52:48.692292Z",
     "iopub.status.busy": "2022-06-26T13:52:48.691939Z",
     "iopub.status.idle": "2022-06-26T13:52:48.705010Z",
     "shell.execute_reply": "2022-06-26T13:52:48.704125Z",
     "shell.execute_reply.started": "2022-06-26T13:52:48.692263Z"
    }
   },
   "outputs": [
    {
     "data": {
      "text/html": [
       "<div>\n",
       "<style scoped>\n",
       "    .dataframe tbody tr th:only-of-type {\n",
       "        vertical-align: middle;\n",
       "    }\n",
       "\n",
       "    .dataframe tbody tr th {\n",
       "        vertical-align: top;\n",
       "    }\n",
       "\n",
       "    .dataframe thead th {\n",
       "        text-align: right;\n",
       "    }\n",
       "</style>\n",
       "<table border=\"1\" class=\"dataframe\">\n",
       "  <thead>\n",
       "    <tr style=\"text-align: right;\">\n",
       "      <th></th>\n",
       "      <th>input</th>\n",
       "      <th>output</th>\n",
       "      <th>input_len</th>\n",
       "    </tr>\n",
       "  </thead>\n",
       "  <tbody>\n",
       "    <tr>\n",
       "      <th>0</th>\n",
       "      <td>&lt;start&gt; image &lt;end&gt;</td>\n",
       "      <td>&lt;start&gt; image image to unsubscribe from the em...</td>\n",
       "      <td>7</td>\n",
       "    </tr>\n",
       "    <tr>\n",
       "      <th>1</th>\n",
       "      <td>&lt;start&gt; image image &lt;end&gt;</td>\n",
       "      <td>&lt;start&gt; image to unsubscribe from the email li...</td>\n",
       "      <td>8</td>\n",
       "    </tr>\n",
       "    <tr>\n",
       "      <th>2</th>\n",
       "      <td>&lt;start&gt; image image image &lt;end&gt;</td>\n",
       "      <td>&lt;start&gt; to unsubscribe from the email list, cl...</td>\n",
       "      <td>9</td>\n",
       "    </tr>\n",
       "    <tr>\n",
       "      <th>3</th>\n",
       "      <td>&lt;start&gt; image image image to &lt;end&gt;</td>\n",
       "      <td>&lt;start&gt; unsubscribe from the email list, click...</td>\n",
       "      <td>10</td>\n",
       "    </tr>\n",
       "    <tr>\n",
       "      <th>4</th>\n",
       "      <td>&lt;start&gt; image image image to unsubscribe &lt;end&gt;</td>\n",
       "      <td>&lt;start&gt; from the email list, click here image ...</td>\n",
       "      <td>11</td>\n",
       "    </tr>\n",
       "  </tbody>\n",
       "</table>\n",
       "</div>"
      ],
      "text/plain": [
       "                                            input  \\\n",
       "0                             <start> image <end>   \n",
       "1                       <start> image image <end>   \n",
       "2                 <start> image image image <end>   \n",
       "3              <start> image image image to <end>   \n",
       "4  <start> image image image to unsubscribe <end>   \n",
       "\n",
       "                                              output  input_len  \n",
       "0  <start> image image to unsubscribe from the em...          7  \n",
       "1  <start> image to unsubscribe from the email li...          8  \n",
       "2  <start> to unsubscribe from the email list, cl...          9  \n",
       "3  <start> unsubscribe from the email list, click...         10  \n",
       "4  <start> from the email list, click here image ...         11  "
      ]
     },
     "execution_count": 36,
     "metadata": {},
     "output_type": "execute_result"
    }
   ],
   "source": [
    "Final_Test_df.head()"
   ]
  },
  {
   "cell_type": "code",
   "execution_count": 37,
   "metadata": {
    "execution": {
     "iopub.execute_input": "2022-06-26T13:52:51.684385Z",
     "iopub.status.busy": "2022-06-26T13:52:51.684041Z",
     "iopub.status.idle": "2022-06-26T13:52:51.689671Z",
     "shell.execute_reply": "2022-06-26T13:52:51.688735Z",
     "shell.execute_reply.started": "2022-06-26T13:52:51.684357Z"
    }
   },
   "outputs": [
    {
     "name": "stdout",
     "output_type": "stream",
     "text": [
      "train dataset shape (179685, 3)\n",
      "test dataset shape (31107, 3)\n"
     ]
    }
   ],
   "source": [
    "print(\"train dataset shape\",Final_Train_df.shape)\n",
    "print(\"test dataset shape\",Final_Test_df.shape)"
   ]
  },
  {
   "cell_type": "markdown",
   "metadata": {},
   "source": [
    "# Removing the all the sentences have more than 20 words"
   ]
  },
  {
   "cell_type": "code",
   "execution_count": 38,
   "metadata": {
    "execution": {
     "iopub.execute_input": "2022-06-26T13:52:54.989528Z",
     "iopub.status.busy": "2022-06-26T13:52:54.988679Z",
     "iopub.status.idle": "2022-06-26T13:52:55.009801Z",
     "shell.execute_reply": "2022-06-26T13:52:55.008974Z",
     "shell.execute_reply.started": "2022-06-26T13:52:54.989495Z"
    }
   },
   "outputs": [
    {
     "name": "stdout",
     "output_type": "stream",
     "text": [
      "CPU times: user 15.9 ms, sys: 994 µs, total: 16.9 ms\n",
      "Wall time: 15.9 ms\n"
     ]
    }
   ],
   "source": [
    "%%time\n",
    "Final_Train_df=Final_Train_df[Final_Train_df[\"input_len\"]<20]\n",
    "Final_Test_df=Final_Test_df[Final_Test_df[\"input_len\"]<20]"
   ]
  },
  {
   "cell_type": "code",
   "execution_count": 39,
   "metadata": {
    "execution": {
     "iopub.execute_input": "2022-06-26T13:52:56.901578Z",
     "iopub.status.busy": "2022-06-26T13:52:56.901142Z",
     "iopub.status.idle": "2022-06-26T13:52:56.907190Z",
     "shell.execute_reply": "2022-06-26T13:52:56.906205Z",
     "shell.execute_reply.started": "2022-06-26T13:52:56.901527Z"
    }
   },
   "outputs": [
    {
     "name": "stdout",
     "output_type": "stream",
     "text": [
      "final train dataset shape (157315, 3)\n",
      "final test dataset shape (27262, 3)\n"
     ]
    }
   ],
   "source": [
    "print(\"final train dataset shape\",Final_Train_df.shape)\n",
    "print(\"final test dataset shape\",Final_Test_df.shape)"
   ]
  },
  {
   "cell_type": "markdown",
   "metadata": {},
   "source": [
    "# Tokenization of train and test data"
   ]
  },
  {
   "cell_type": "code",
   "execution_count": 40,
   "metadata": {
    "execution": {
     "iopub.execute_input": "2022-06-26T13:53:00.735319Z",
     "iopub.status.busy": "2022-06-26T13:53:00.734964Z",
     "iopub.status.idle": "2022-06-26T13:53:02.212247Z",
     "shell.execute_reply": "2022-06-26T13:53:02.211432Z",
     "shell.execute_reply.started": "2022-06-26T13:53:00.735291Z"
    }
   },
   "outputs": [],
   "source": [
    "tokenizer_train_ip = Tokenizer(filters='')\n",
    "tokenizer_train_ip.fit_on_texts(Final_Train_df[\"input\"].values)"
   ]
  },
  {
   "cell_type": "code",
   "execution_count": 41,
   "metadata": {
    "execution": {
     "iopub.execute_input": "2022-06-26T13:53:03.454195Z",
     "iopub.status.busy": "2022-06-26T13:53:03.453843Z",
     "iopub.status.idle": "2022-06-26T13:53:03.459034Z",
     "shell.execute_reply": "2022-06-26T13:53:03.458234Z",
     "shell.execute_reply.started": "2022-06-26T13:53:03.454168Z"
    }
   },
   "outputs": [
    {
     "name": "stdout",
     "output_type": "stream",
     "text": [
      "input vocab size 16029\n"
     ]
    }
   ],
   "source": [
    "word_index_train_ip = tokenizer_train_ip.word_index\n",
    "vocab_size_train_ip=len(word_index_train_ip)+1\n",
    "print(\"input vocab size {}\".format(vocab_size_train_ip))"
   ]
  },
  {
   "cell_type": "code",
   "execution_count": 42,
   "metadata": {
    "execution": {
     "iopub.execute_input": "2022-06-26T13:53:08.217544Z",
     "iopub.status.busy": "2022-06-26T13:53:08.217177Z",
     "iopub.status.idle": "2022-06-26T13:53:10.112233Z",
     "shell.execute_reply": "2022-06-26T13:53:10.111425Z",
     "shell.execute_reply.started": "2022-06-26T13:53:08.217513Z"
    }
   },
   "outputs": [],
   "source": [
    "train_text_sequences_ip = tokenizer_train_ip.texts_to_sequences(Final_Train_df[\"input\"].values)\n",
    "test_text_sequences_ip = tokenizer_train_ip.texts_to_sequences(Final_Test_df[\"input\"].values)"
   ]
  },
  {
   "cell_type": "code",
   "execution_count": 43,
   "metadata": {
    "execution": {
     "iopub.execute_input": "2022-06-26T13:53:10.114136Z",
     "iopub.status.busy": "2022-06-26T13:53:10.113788Z",
     "iopub.status.idle": "2022-06-26T13:53:10.712614Z",
     "shell.execute_reply": "2022-06-26T13:53:10.711739Z",
     "shell.execute_reply.started": "2022-06-26T13:53:10.114110Z"
    }
   },
   "outputs": [
    {
     "name": "stdout",
     "output_type": "stream",
     "text": [
      "[[   1  273    2 ...    0    0    0]\n",
      " [   1  273 5853 ...    0    0    0]\n",
      " [   1  273 5853 ...    0    0    0]\n",
      " ...\n",
      " [   1   83   70 ...    0    0    0]\n",
      " [   1   83   70 ...    0    0    0]\n",
      " [   1   83   70 ...    0    0    0]]\n"
     ]
    }
   ],
   "source": [
    "Train_padded_data_ip = pad_sequences(train_text_sequences_ip, padding='post',maxlen=20)\n",
    "print(Train_padded_data_ip)"
   ]
  },
  {
   "cell_type": "code",
   "execution_count": 44,
   "metadata": {
    "execution": {
     "iopub.execute_input": "2022-06-26T13:53:12.772739Z",
     "iopub.status.busy": "2022-06-26T13:53:12.771917Z",
     "iopub.status.idle": "2022-06-26T13:53:12.878366Z",
     "shell.execute_reply": "2022-06-26T13:53:12.877445Z",
     "shell.execute_reply.started": "2022-06-26T13:53:12.772704Z"
    }
   },
   "outputs": [
    {
     "name": "stdout",
     "output_type": "stream",
     "text": [
      "[[   1  156    2 ...    0    0    0]\n",
      " [   1  156  156 ...    0    0    0]\n",
      " [   1  156  156 ...    0    0    0]\n",
      " ...\n",
      " [   1    8  895 ...    0    0    0]\n",
      " [   1    8  895 ...    0    0    0]\n",
      " [   1 3599    2 ...    0    0    0]]\n"
     ]
    }
   ],
   "source": [
    "Test_padded_data_ip = pad_sequences(test_text_sequences_ip, padding='post',maxlen=20)\n",
    "print(Test_padded_data_ip)"
   ]
  },
  {
   "cell_type": "code",
   "execution_count": 45,
   "metadata": {
    "execution": {
     "iopub.execute_input": "2022-06-26T13:53:14.729288Z",
     "iopub.status.busy": "2022-06-26T13:53:14.728430Z",
     "iopub.status.idle": "2022-06-26T13:53:14.734378Z",
     "shell.execute_reply": "2022-06-26T13:53:14.733424Z",
     "shell.execute_reply.started": "2022-06-26T13:53:14.729250Z"
    }
   },
   "outputs": [
    {
     "name": "stdout",
     "output_type": "stream",
     "text": [
      "train data shape after padding (157315, 20)\n",
      "test data shape after padding (27262, 20)\n"
     ]
    }
   ],
   "source": [
    "print(\"train data shape after padding\",Train_padded_data_ip.shape)\n",
    "print(\"test data shape after padding\",Test_padded_data_ip.shape)"
   ]
  },
  {
   "cell_type": "markdown",
   "metadata": {},
   "source": [
    "# Output class label tokenization"
   ]
  },
  {
   "cell_type": "code",
   "execution_count": 46,
   "metadata": {
    "execution": {
     "iopub.execute_input": "2022-06-26T13:53:17.070548Z",
     "iopub.status.busy": "2022-06-26T13:53:17.070098Z",
     "iopub.status.idle": "2022-06-26T13:53:19.129604Z",
     "shell.execute_reply": "2022-06-26T13:53:19.128802Z",
     "shell.execute_reply.started": "2022-06-26T13:53:17.070509Z"
    }
   },
   "outputs": [],
   "source": [
    "tokenizer_train_op = Tokenizer(filters='')\n",
    "tokenizer_train_op.fit_on_texts(Final_Train_df[\"output\"].values)"
   ]
  },
  {
   "cell_type": "code",
   "execution_count": 47,
   "metadata": {
    "execution": {
     "iopub.execute_input": "2022-06-26T13:53:19.131808Z",
     "iopub.status.busy": "2022-06-26T13:53:19.131412Z",
     "iopub.status.idle": "2022-06-26T13:53:19.136941Z",
     "shell.execute_reply": "2022-06-26T13:53:19.135843Z",
     "shell.execute_reply.started": "2022-06-26T13:53:19.131771Z"
    }
   },
   "outputs": [
    {
     "name": "stdout",
     "output_type": "stream",
     "text": [
      "output vocab size 19214\n"
     ]
    }
   ],
   "source": [
    "word_index_train_op = tokenizer_train_op.word_index\n",
    "vocab_size_train_op=len(word_index_train_op)+1\n",
    "print(\"output vocab size {}\".format(vocab_size_train_op))"
   ]
  },
  {
   "cell_type": "code",
   "execution_count": 48,
   "metadata": {
    "execution": {
     "iopub.execute_input": "2022-06-26T13:53:20.997248Z",
     "iopub.status.busy": "2022-06-26T13:53:20.996888Z",
     "iopub.status.idle": "2022-06-26T13:53:22.736188Z",
     "shell.execute_reply": "2022-06-26T13:53:22.735401Z",
     "shell.execute_reply.started": "2022-06-26T13:53:20.997218Z"
    }
   },
   "outputs": [],
   "source": [
    "train_text_sequences_op = tokenizer_train_op.texts_to_sequences(Final_Train_df[\"output\"].values)\n",
    "test_text_sequences_op = tokenizer_train_op.texts_to_sequences(Final_Test_df[\"output\"].values)"
   ]
  },
  {
   "cell_type": "code",
   "execution_count": 49,
   "metadata": {
    "execution": {
     "iopub.execute_input": "2022-06-26T13:53:22.808289Z",
     "iopub.status.busy": "2022-06-26T13:53:22.807965Z",
     "iopub.status.idle": "2022-06-26T13:53:23.418619Z",
     "shell.execute_reply": "2022-06-26T13:53:23.417816Z",
     "shell.execute_reply.started": "2022-06-26T13:53:22.808260Z"
    }
   },
   "outputs": [
    {
     "name": "stdout",
     "output_type": "stream",
     "text": [
      "[[    1 18362  2999 ...     0     0     0]\n",
      " [    1  2999  3940 ...     0     0     0]\n",
      " [    1  3940   237 ...     0     0     0]\n",
      " ...\n",
      " [    1    29     4 ...     0     0     0]\n",
      " [    1     4  9952 ...     0     0     0]\n",
      " [    1  9952  1164 ...     0     0     0]]\n"
     ]
    }
   ],
   "source": [
    "Train_padded_data_op = pad_sequences(train_text_sequences_op, padding='post',maxlen=20)\n",
    "print(Train_padded_data_op)"
   ]
  },
  {
   "cell_type": "code",
   "execution_count": 50,
   "metadata": {
    "execution": {
     "iopub.execute_input": "2022-06-26T13:53:25.444354Z",
     "iopub.status.busy": "2022-06-26T13:53:25.443992Z",
     "iopub.status.idle": "2022-06-26T13:53:25.558827Z",
     "shell.execute_reply": "2022-06-26T13:53:25.557939Z",
     "shell.execute_reply.started": "2022-06-26T13:53:25.444325Z"
    }
   },
   "outputs": [
    {
     "name": "stdout",
     "output_type": "stream",
     "text": [
      "[[   1  156    2 ...    0    0    0]\n",
      " [   1  156  156 ...    0    0    0]\n",
      " [   1  156  156 ...    0    0    0]\n",
      " ...\n",
      " [   1    8  895 ...    0    0    0]\n",
      " [   1    8  895 ...    0    0    0]\n",
      " [   1 3599    2 ...    0    0    0]]\n"
     ]
    }
   ],
   "source": [
    "Test_padded_data_op = pad_sequences(test_text_sequences_op, padding='post',maxlen=20)\n",
    "print(Test_padded_data_ip)"
   ]
  },
  {
   "cell_type": "code",
   "execution_count": 51,
   "metadata": {
    "execution": {
     "iopub.execute_input": "2022-06-26T13:53:27.687080Z",
     "iopub.status.busy": "2022-06-26T13:53:27.686490Z",
     "iopub.status.idle": "2022-06-26T13:53:27.691688Z",
     "shell.execute_reply": "2022-06-26T13:53:27.690614Z",
     "shell.execute_reply.started": "2022-06-26T13:53:27.687045Z"
    }
   },
   "outputs": [
    {
     "name": "stdout",
     "output_type": "stream",
     "text": [
      "output train data shape after padding (157315, 20)\n",
      " output test data shape after padding (27262, 20)\n"
     ]
    }
   ],
   "source": [
    "print(\"output train data shape after padding\",Train_padded_data_op.shape)\n",
    "print(\" output test data shape after padding\",Test_padded_data_op.shape)"
   ]
  },
  {
   "cell_type": "markdown",
   "metadata": {},
   "source": [
    "# Model Building"
   ]
  },
  {
   "cell_type": "code",
   "execution_count": 72,
   "metadata": {
    "execution": {
     "iopub.execute_input": "2022-06-26T14:22:11.732995Z",
     "iopub.status.busy": "2022-06-26T14:22:11.732383Z",
     "iopub.status.idle": "2022-06-26T14:22:12.049497Z",
     "shell.execute_reply": "2022-06-26T14:22:12.048514Z",
     "shell.execute_reply.started": "2022-06-26T14:22:11.732950Z"
    }
   },
   "outputs": [
    {
     "name": "stdout",
     "output_type": "stream",
     "text": [
      "Model: \"model\"\n",
      "_________________________________________________________________\n",
      "Layer (type)                 Output Shape              Param #   \n",
      "=================================================================\n",
      "input_1 (InputLayer)         [(None, 20)]              0         \n",
      "_________________________________________________________________\n",
      "embedding (Embedding)        (None, 20, 300)           4808700   \n",
      "_________________________________________________________________\n",
      "lstm (LSTM)                  (None, 20, 128)           219648    \n",
      "_________________________________________________________________\n",
      "dropout_layer1 (Dropout)     (None, 20, 128)           0         \n",
      "_________________________________________________________________\n",
      "Dense_layer2 (Dense)         (None, 20, 350)           45150     \n",
      "_________________________________________________________________\n",
      "dropout_layer2 (Dropout)     (None, 20, 350)           0         \n",
      "_________________________________________________________________\n",
      "Dense_layer3 (Dense)         (None, 20, 350)           122850    \n",
      "_________________________________________________________________\n",
      "output (Dense)               (None, 20, 19214)         6744114   \n",
      "=================================================================\n",
      "Total params: 11,940,462\n",
      "Trainable params: 11,940,462\n",
      "Non-trainable params: 0\n",
      "_________________________________________________________________\n"
     ]
    }
   ],
   "source": [
    "input_layer = tf.keras.Input(shape=(20,))\n",
    "\n",
    "Emded_layer = tf.keras.layers.Embedding(vocab_size_train_ip, 300, input_length=20)(input_layer)\n",
    "\n",
    "dense_layer1 = tf.keras.layers.LSTM(128,return_sequences=True)(Emded_layer)\n",
    "\n",
    "dropout_layer1 = tf.keras.layers.Dropout(rate = 0.3 , name = 'dropout_layer1')(dense_layer1)\n",
    "\n",
    "dense_layer2 = tf.keras.layers.Dense(350,activation='relu', kernel_initializer=tf.keras.initializers.he_normal, name = 'Dense_layer2')(dropout_layer1)\n",
    "\n",
    "dropout_layer2 = tf.keras.layers.Dropout(rate = 0.4 , name = 'dropout_layer2')(dense_layer2)\n",
    "\n",
    "dense_layer3 = tf.keras.layers.Dense(350,activation='relu', kernel_initializer=tf.keras.initializers.he_normal ,name = 'Dense_layer3')(dropout_layer2)\n",
    "\n",
    "output = tf.keras.layers.Dense(vocab_size_train_op,activation='softmax',kernel_initializer=tf.keras.initializers.he_normal , name = 'output')(dense_layer3)\n",
    "\n",
    "model = tf.keras.Model(inputs= input_layer, outputs=output)\n",
    "\n",
    "model.summary()"
   ]
  },
  {
   "cell_type": "code",
   "execution_count": 74,
   "metadata": {
    "execution": {
     "iopub.execute_input": "2022-06-26T14:22:16.527280Z",
     "iopub.status.busy": "2022-06-26T14:22:16.526665Z",
     "iopub.status.idle": "2022-06-26T14:22:16.531894Z",
     "shell.execute_reply": "2022-06-26T14:22:16.531019Z",
     "shell.execute_reply.started": "2022-06-26T14:22:16.527244Z"
    }
   },
   "outputs": [],
   "source": [
    "def perplexity(y_true, y_pred):\n",
    "    \"\"\"\n",
    "    this function will calculate perplexity metric for train and test dataset\n",
    "    \"\"\"\n",
    "    return keras.backend.exp(keras.backend.mean(keras.backend.sparse_categorical_crossentropy(y_true, y_pred)))"
   ]
  },
  {
   "cell_type": "markdown",
   "metadata": {},
   "source": [
    "# Compiling the model"
   ]
  },
  {
   "cell_type": "code",
   "execution_count": 73,
   "metadata": {
    "execution": {
     "iopub.execute_input": "2022-06-26T14:22:14.460872Z",
     "iopub.status.busy": "2022-06-26T14:22:14.460033Z",
     "iopub.status.idle": "2022-06-26T14:22:14.472277Z",
     "shell.execute_reply": "2022-06-26T14:22:14.471430Z",
     "shell.execute_reply.started": "2022-06-26T14:22:14.460832Z"
    }
   },
   "outputs": [],
   "source": [
    "from tensorflow.keras.optimizers import Adam\n",
    "optimizer=Adam(learning_rate=0.01)\n",
    "model.compile(optimizer=optimizer, loss='sparse_categorical_crossentropy', metrics=[perplexity])"
   ]
  },
  {
   "cell_type": "markdown",
   "metadata": {},
   "source": [
    "# Fitting the data to train dataset"
   ]
  },
  {
   "cell_type": "code",
   "execution_count": 75,
   "metadata": {
    "execution": {
     "iopub.execute_input": "2022-06-26T14:22:18.201402Z",
     "iopub.status.busy": "2022-06-26T14:22:18.201042Z",
     "iopub.status.idle": "2022-06-26T14:35:42.059055Z",
     "shell.execute_reply": "2022-06-26T14:35:42.058103Z",
     "shell.execute_reply.started": "2022-06-26T14:22:18.201366Z"
    }
   },
   "outputs": [
    {
     "name": "stdout",
     "output_type": "stream",
     "text": [
      "Epoch 1/20\n",
      "308/308 [==============================] - 40s 125ms/step - loss: 3.2066 - perplexity: 136.7309 - val_loss: 3.1685 - val_perplexity: 24.1397\n",
      "Epoch 2/20\n",
      "308/308 [==============================] - 38s 124ms/step - loss: 2.8282 - perplexity: 16.9623 - val_loss: 3.4526 - val_perplexity: 32.3221\n",
      "Epoch 3/20\n",
      "308/308 [==============================] - 38s 124ms/step - loss: 2.6313 - perplexity: 13.9227 - val_loss: 3.5547 - val_perplexity: 35.6841\n",
      "Epoch 4/20\n",
      "308/308 [==============================] - 38s 124ms/step - loss: 2.4728 - perplexity: 11.8763 - val_loss: 3.8351 - val_perplexity: 47.3928\n",
      "Epoch 5/20\n",
      "308/308 [==============================] - 38s 124ms/step - loss: 2.3635 - perplexity: 10.6495 - val_loss: 3.8889 - val_perplexity: 50.0786\n",
      "Epoch 6/20\n",
      "308/308 [==============================] - 38s 124ms/step - loss: 2.2922 - perplexity: 9.9131 - val_loss: 3.8708 - val_perplexity: 48.8537\n",
      "Epoch 7/20\n",
      "308/308 [==============================] - 38s 124ms/step - loss: 2.2394 - perplexity: 9.4016 - val_loss: 4.0851 - val_perplexity: 60.9272\n",
      "Epoch 8/20\n",
      "308/308 [==============================] - 38s 124ms/step - loss: 2.2022 - perplexity: 9.0532 - val_loss: 4.1585 - val_perplexity: 65.8686\n",
      "Epoch 9/20\n",
      "308/308 [==============================] - 38s 125ms/step - loss: 2.1720 - perplexity: 8.7892 - val_loss: 4.1844 - val_perplexity: 67.3893\n",
      "Epoch 10/20\n",
      "308/308 [==============================] - 38s 125ms/step - loss: 2.1513 - perplexity: 8.6049 - val_loss: 4.3366 - val_perplexity: 79.1865\n",
      "Epoch 11/20\n",
      "308/308 [==============================] - 38s 125ms/step - loss: 2.1339 - perplexity: 8.4604 - val_loss: 4.3074 - val_perplexity: 76.5174\n",
      "Epoch 12/20\n",
      "308/308 [==============================] - 38s 125ms/step - loss: 2.1163 - perplexity: 8.3107 - val_loss: 4.4370 - val_perplexity: 87.7853\n",
      "Epoch 13/20\n",
      "308/308 [==============================] - 38s 125ms/step - loss: 2.1031 - perplexity: 8.2020 - val_loss: 4.4714 - val_perplexity: 90.8389\n",
      "Epoch 14/20\n",
      "308/308 [==============================] - 38s 125ms/step - loss: 2.0908 - perplexity: 8.1035 - val_loss: 4.4762 - val_perplexity: 90.8388\n",
      "Epoch 15/20\n",
      "308/308 [==============================] - 38s 125ms/step - loss: 2.0804 - perplexity: 8.0157 - val_loss: 4.5386 - val_perplexity: 97.1496\n",
      "Epoch 16/20\n",
      "308/308 [==============================] - 38s 125ms/step - loss: 2.0746 - perplexity: 7.9732 - val_loss: 4.6231 - val_perplexity: 105.6011\n",
      "Epoch 17/20\n",
      "308/308 [==============================] - 38s 125ms/step - loss: 2.0650 - perplexity: 7.8913 - val_loss: 4.7008 - val_perplexity: 114.8271\n",
      "Epoch 18/20\n",
      "308/308 [==============================] - 38s 125ms/step - loss: 2.0565 - perplexity: 7.8271 - val_loss: 4.6213 - val_perplexity: 105.3839\n",
      "Epoch 19/20\n",
      "308/308 [==============================] - 38s 125ms/step - loss: 2.0483 - perplexity: 7.7632 - val_loss: 4.7946 - val_perplexity: 126.4939\n",
      "Epoch 20/20\n",
      "308/308 [==============================] - 38s 125ms/step - loss: 2.0426 - perplexity: 7.7167 - val_loss: 4.8822 - val_perplexity: 138.4022\n"
     ]
    }
   ],
   "source": [
    "history = model.fit(Train_padded_data_ip, Train_padded_data_op, epochs=20, validation_data=(Test_padded_data_ip,Test_padded_data_ip) , batch_size=512)"
   ]
  },
  {
   "cell_type": "markdown",
   "metadata": {},
   "source": [
    "# plotting the graph for loss and perplexity for both train and test dataset"
   ]
  },
  {
   "cell_type": "code",
   "execution_count": 76,
   "metadata": {
    "execution": {
     "iopub.execute_input": "2022-06-26T14:35:42.062005Z",
     "iopub.status.busy": "2022-06-26T14:35:42.061597Z",
     "iopub.status.idle": "2022-06-26T14:35:42.463235Z",
     "shell.execute_reply": "2022-06-26T14:35:42.462414Z",
     "shell.execute_reply.started": "2022-06-26T14:35:42.061968Z"
    }
   },
   "outputs": [
    {
     "data": {
      "image/png": "[encoded data removed]",
      "text/plain": [
       "<Figure size 432x288 with 1 Axes>"
      ]
     },
     "metadata": {
      "needs_background": "light"
     },
     "output_type": "display_data"
    },
    {
     "data": {
      "image/png": "[encoded data removed]",
      "text/plain": [
       "<Figure size 432x288 with 1 Axes>"
      ]
     },
     "metadata": {
      "needs_background": "light"
     },
     "output_type": "display_data"
    }
   ],
   "source": [
    "import matplotlib.pyplot as plt\n",
    "# perplexity for Simple LSTM model\n",
    "plt.plot(history.history['perplexity'])\n",
    "plt.plot(history.history['val_perplexity'])\n",
    "plt.title('model perplexity')\n",
    "plt.ylabel('perplexity')\n",
    "plt.xlabel('epoch')\n",
    "plt.legend(['train', 'test'], loc='upper right')\n",
    "plt.grid()\n",
    "plt.show()\n",
    "# Loss for Simple LSTM model\n",
    "plt.plot(history.history['loss'])\n",
    "plt.plot(history.history['val_loss'])\n",
    "plt.title('model loss')\n",
    "plt.ylabel('loss')\n",
    "plt.xlabel('epoch')\n",
    "plt.legend(['train', 'test'], loc='upper right')\n",
    "plt.grid()\n",
    "plt.show()\n"
   ]
  },
  {
   "cell_type": "code",
   "execution_count": 77,
   "metadata": {
    "execution": {
     "iopub.execute_input": "2022-06-26T14:35:42.464912Z",
     "iopub.status.busy": "2022-06-26T14:35:42.464574Z",
     "iopub.status.idle": "2022-06-26T14:35:42.476070Z",
     "shell.execute_reply": "2022-06-26T14:35:42.475228Z",
     "shell.execute_reply.started": "2022-06-26T14:35:42.464877Z"
    }
   },
   "outputs": [],
   "source": [
    "output_vocab = tokenizer_train_op.word_index\n",
    "new_output_vocab = dict([(value, key) for key, value in output_vocab.items()])"
   ]
  },
  {
   "cell_type": "markdown",
   "metadata": {},
   "source": [
    "# preparing the pipeline for final prediction"
   ]
  },
  {
   "cell_type": "code",
   "execution_count": 78,
   "metadata": {
    "execution": {
     "iopub.execute_input": "2022-06-26T14:35:42.478819Z",
     "iopub.status.busy": "2022-06-26T14:35:42.478361Z",
     "iopub.status.idle": "2022-06-26T14:35:42.486109Z",
     "shell.execute_reply": "2022-06-26T14:35:42.485320Z",
     "shell.execute_reply.started": "2022-06-26T14:35:42.478781Z"
    }
   },
   "outputs": [],
   "source": [
    "def model_predict(text):\n",
    "    '''this function will predict the the text sequence based on given input sequence'''\n",
    "    Y_pred_test=model.predict(text.reshape(-1,20))\n",
    "    y_hat=[]\n",
    "    pred_words=[]\n",
    "    for j in Y_pred_test[0]:\n",
    "        y_hat.append(np.argmax(j))\n",
    "    for k in y_hat:\n",
    "        if k!=0:\n",
    "            pred_words.append(new_output_vocab[k])\n",
    "            \n",
    "    return (' '.join(pred_words))\n",
    "    "
   ]
  },
  {
   "cell_type": "markdown",
   "metadata": {},
   "source": [
    "# Calculating the bleu score "
   ]
  },
  {
   "cell_type": "code",
   "execution_count": 80,
   "metadata": {
    "execution": {
     "iopub.execute_input": "2022-06-26T14:40:25.218989Z",
     "iopub.status.busy": "2022-06-26T14:40:25.218396Z",
     "iopub.status.idle": "2022-06-26T14:51:38.366798Z",
     "shell.execute_reply": "2022-06-26T14:51:38.365964Z",
     "shell.execute_reply.started": "2022-06-26T14:40:25.218936Z"
    }
   },
   "outputs": [
    {
     "name": "stderr",
     "output_type": "stream",
     "text": [
      "100%|██████████| 16000/16000 [11:13<00:00, 23.77it/s]"
     ]
    },
    {
     "name": "stdout",
     "output_type": "stream",
     "text": [
      "final bleu score of model 0.4237378035570082\n"
     ]
    },
    {
     "name": "stderr",
     "output_type": "stream",
     "text": [
      "\n"
     ]
    }
   ],
   "source": [
    "from nltk.translate.bleu_score import sentence_bleu\n",
    "test_sample = Final_Test_df.sample(16000)\n",
    "final_bleu_score = []\n",
    "for i in tqdm(range(16000)):\n",
    "    actual  = test_sample[\"input\"].values[i]\n",
    "    test_input = tokenizer_train_ip.texts_to_sequences([str(test_sample[\"input\"].values[i])])\n",
    "    test_input = pad_sequences(test_input, padding=\"post\",maxlen= 20)\n",
    "    Predict = model_predict(test_input)\n",
    "    final_bleu_score.append(sentence_bleu([actual.split(),], Predict.split()))\n",
    "print(\"final bleu score of model {}\".format(np.mean(final_bleu_score)))"
   ]
  },
  {
   "cell_type": "markdown",
   "metadata": {},
   "source": [
    "# Summary of above trained first cut LSTM model"
   ]
  },
  {
   "cell_type": "code",
   "execution_count": 81,
   "metadata": {
    "execution": {
     "iopub.execute_input": "2022-06-26T14:51:51.269579Z",
     "iopub.status.busy": "2022-06-26T14:51:51.269208Z",
     "iopub.status.idle": "2022-06-26T14:51:51.278069Z",
     "shell.execute_reply": "2022-06-26T14:51:51.277230Z",
     "shell.execute_reply.started": "2022-06-26T14:51:51.269531Z"
    }
   },
   "outputs": [
    {
     "name": "stdout",
     "output_type": "stream",
     "text": [
      "+-------+-------------------------------+------------+\n",
      "| Model | perplexity score on test data | Bleu Score |\n",
      "+-------+-------------------------------+------------+\n",
      "|  LSTM |             138.4             |    0.42    |\n",
      "+-------+-------------------------------+------------+\n"
     ]
    }
   ],
   "source": [
    "from prettytable import PrettyTable\n",
    "  \n",
    "# Specify the Column Names while initializing the Table\n",
    "myTable = PrettyTable([ \"Model\",\"perplexity score on test data\", \"Bleu Score\"])\n",
    "  \n",
    "# Add rows\n",
    "myTable.add_row([\"LSTM\",\"138.4\", \"0.42\"])\n",
    "               \n",
    "print(myTable)"
   ]
  },
  {
   "cell_type": "markdown",
   "metadata": {},
   "source": [
    "# Observations:-"
   ]
  },
  {
   "cell_type": "markdown",
   "metadata": {},
   "source": [
    "1. From above result we can say that simple lstm based model is not performing well as it has perlexity of 138 which is very high and bleu of 0.4 which is also not that good."
   ]
  }
 ],
 "metadata": {
  "kernelspec": {
   "display_name": "Python 3",
   "language": "python",
   "name": "python3"
  },
  "language_info": {
   "codemirror_mode": {
    "name": "ipython",
    "version": 3
   },
   "file_extension": ".py",
   "mimetype": "text/x-python",
   "name": "python",
   "nbconvert_exporter": "python",
   "pygments_lexer": "ipython3",
   "version": "3.8.8"
  }
 },
 "nbformat": 4,
 "nbformat_minor": 4
}
